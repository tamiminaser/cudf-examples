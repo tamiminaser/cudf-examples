{
 "cells": [
  {
   "cell_type": "code",
   "execution_count": 2,
   "id": "c0f26017-e05d-4e80-a8b4-322ca948518f",
   "metadata": {},
   "outputs": [
    {
     "name": "stderr",
     "output_type": "stream",
     "text": [
      "100%|█████████████████████████| 100000000/100000000 [8:21:49<00:00, 3321.18it/s]"
     ]
    },
    {
     "name": "stdout",
     "output_type": "stream",
     "text": [
      "CSV generation complete!\n"
     ]
    },
    {
     "name": "stderr",
     "output_type": "stream",
     "text": [
      "\n"
     ]
    }
   ],
   "source": [
    "import csv\n",
    "from faker import Faker\n",
    "import datetime\n",
    "from tqdm import tqdm\n",
    "\n",
    "def datagenerate(records, headers):\n",
    "    fake = Faker('en_US')\n",
    "    with open(\"data_10000000.csv\", 'wt') as csvFile:\n",
    "        writer = csv.DictWriter(csvFile, fieldnames=headers)\n",
    "        writer.writeheader()\n",
    "        for i in tqdm(range(records)):\n",
    "            full_name = fake.name()\n",
    "            FLname = full_name.split(\" \")\n",
    "            Fname = FLname[0]\n",
    "            Lname = FLname[1]\n",
    "            domain_name = \"@testDomain.com\"\n",
    "            userId = Fname +\".\"+ Lname + domain_name\n",
    "            \n",
    "            writer.writerow({\n",
    "                    \"user_id\": fake.unique.random_int(min=1111111111111, max=9999999999999),\n",
    "                    \"name\": fake.name(),\n",
    "                    \"date_of_birth\" : fake.date(pattern=\"%d-%m-%Y\", end_datetime=datetime.date(2000, 1,1)),\n",
    "                    \"country_of_birth\": fake.country(),\n",
    "                    \"email\": fake.email(),\n",
    "                    \"record_year\": fake.year(),\n",
    "                    \"score\": fake.random_int(min=1, max=999),\n",
    "                    })\n",
    "    \n",
    "records = 100000000\n",
    "headers = [\"user_id\", \"name\", \"date_of_birth\", \"country_of_birth\", \"email\", \"record_year\", \"score\"]\n",
    "datagenerate(records, headers)\n",
    "print(\"CSV generation complete!\")"
   ]
  },
  {
   "cell_type": "code",
   "execution_count": null,
   "id": "0f5ac0c4-81e1-4ac9-a8e9-fa24fac6e666",
   "metadata": {},
   "outputs": [],
   "source": []
  }
 ],
 "metadata": {
  "kernelspec": {
   "display_name": "Python 3 (ipykernel)",
   "language": "python",
   "name": "python3"
  },
  "language_info": {
   "codemirror_mode": {
    "name": "ipython",
    "version": 3
   },
   "file_extension": ".py",
   "mimetype": "text/x-python",
   "name": "python",
   "nbconvert_exporter": "python",
   "pygments_lexer": "ipython3",
   "version": "3.10.13"
  }
 },
 "nbformat": 4,
 "nbformat_minor": 5
}
